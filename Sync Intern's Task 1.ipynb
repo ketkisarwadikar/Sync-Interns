{
  "cells": [
    {
      "cell_type": "markdown",
      "source": [
        "# Name : Ketki Sarwadikar\n",
        "# Task 1\n",
        "# Project Name : Create a Chatbot"
      ],
      "metadata": {
        "id": "ryPAeDTKyPN8"
      }
    },
    {
      "cell_type": "code",
      "execution_count": 1,
      "metadata": {
        "id": "j59IVsnXqAKF"
      },
      "outputs": [],
      "source": [
        "reflections = {\n",
        "\"i am\" : \"you are\",\n",
        "\"i was\" : \"you were\",\n",
        "\"i\" : \"you\",\n",
        "\"i'm\" : \"you are\",\n",
        "\"i'd\" : \"you would\",\n",
        "\"i've\" : \"you have\",\n",
        "\"i'll\" : \"you will\",\n",
        "\"my\" : \"your\",\n",
        "\"you are\" : \"I am\",\n",
        "\"you were\" : \"I was\",\n",
        "\"you've\" : \"I have\",\n",
        "\"you'll\" : \"I will\",\n",
        "\"your\" : \"my\",\n",
        "\"yours\" : \"mine\",\n",
        "\"you\" : \"me\",\n",
        "\"me\" : \"you\"\n",
        "}"
      ]
    },
    {
      "cell_type": "code",
      "execution_count": 2,
      "metadata": {
        "id": "tQ8YIQusqHnE"
      },
      "outputs": [],
      "source": [
        "my_dummy_reflections= {\n",
        "\"go\" : \"gone\",\n",
        "\"hello\" : \"hey there\"\n",
        "}"
      ]
    },
    {
      "cell_type": "code",
      "execution_count": 3,
      "metadata": {
        "colab": {
          "base_uri": "https://localhost:8080/",
          "height": 36
        },
        "id": "RDJ2E1dS1-Gv",
        "outputId": "59cef63e-b277-469a-f66c-f97e4ea59cab"
      },
      "outputs": [
        {
          "output_type": "execute_result",
          "data": {
            "text/plain": [
              "'/content'"
            ],
            "application/vnd.google.colaboratory.intrinsic+json": {
              "type": "string"
            }
          },
          "metadata": {},
          "execution_count": 3
        }
      ],
      "source": [
        "import os\n",
        "os.getcwd()"
      ]
    },
    {
      "cell_type": "code",
      "execution_count": 4,
      "metadata": {
        "id": "WbH8GTr45x46"
      },
      "outputs": [],
      "source": [
        "import nltk"
      ]
    },
    {
      "cell_type": "code",
      "execution_count": 5,
      "metadata": {
        "id": "weqg7n6lqROK"
      },
      "outputs": [],
      "source": [
        "from nltk.chat.util import Chat, reflections"
      ]
    },
    {
      "cell_type": "code",
      "execution_count": 6,
      "metadata": {
        "id": "Myx3REbUqL3a"
      },
      "outputs": [],
      "source": [
        "pairs = [\n",
        "[\n",
        "  r\"my name is (.*)\",\n",
        "  [\"Hello %1, How are you today ?\",]\n",
        "],\n",
        "[\n",
        "  r\"what is your name ?|name\",\n",
        "  [\"My name is Chatty and I'm a chatbot ?\",]\n",
        "],\n",
        "[\n",
        "  r\"how are you ?\",\n",
        "  [\"I'm doing good\\nHow about You ?\",]\n",
        "],\n",
        "[\n",
        "  r\"Thanks|Thank you|thank u\",\n",
        " [\"Hehe\",\"welcome\", \"alright\",\"U0001f607\"]\n",
        "],\n",
        "[\n",
        "  r\"sorry (.*)\",\n",
        "  [\"Its alright\",\"Its OK, never mind\",]\n",
        "],\n",
        "[\n",
        "  r\"i'm (.*) doing good\",\n",
        "  [\"Nice to hear that\",\"Alright :)\",]\n",
        "],\n",
        "[\n",
        "  r\"hi|hey|hello\",\n",
        "  [\"Hello\", \"Hey there\",]\n",
        "],\n",
        "[\n",
        "  r\"(.*) age?\",\n",
        "  [\"I'm a computer program dude\\nSeriously you are asking me this?\",]\n",
        "],\n",
        "[\n",
        "  r\"what (.*) want ?\",\n",
        "  [\"Make me an offer I can't refuse\",]\n",
        "],\n",
        "[\n",
        "  r\"(.*) created ?\",\n",
        "  [\"Ketki created me using Python's NLTK library \",\"top secret ;)\",]\n",
        "],\n",
        "[\n",
        "  r\"(.*) (location|city) ?\",\n",
        "  ['A secret',]\n",
        "],\n",
        "[\n",
        "  r\"i work in (.*)?\",\n",
        "  [\"%1 is an Amazing company, I have heard about it. But they are in huge loss these days.\",]\n",
        "],\n",
        "[\n",
        "  r\"(.*)raining in (.*)\",\n",
        "  [\"No rain since last week here in %2\",\"Damn its raining too much here in %2\"]\n",
        "],\n",
        "[\n",
        "  r\"how (.*) health(.*)\",\n",
        "  [\"I'm a computer program, so I'm always healthy \",]\n",
        "],\n",
        "[\n",
        "  r\"(.*) (sports|game) ?\",\n",
        "  [\"I'm a very big fan of Football\",]\n",
        "],\n",
        "[\n",
        "  r\"who (.*) sportsperson ?\",\n",
        "  [\"Messy\",\"Ronaldo\",\"Roony\"]\n",
        "],\n",
        "[\n",
        "  r\"who (.*) (moviestar|actor)?\",\n",
        "  [\"Brad Pitt\",\"Johnny Depp\",\"Scarlett Johansson\"]\n",
        "],\n",
        "[\n",
        "  r\"quit|bye|see you\",\n",
        "  [\"BBye take care. See you soon :) \",\"It was nice talking to you. See you soon :)\"]\n",
        "],\n",
        "]\n"
      ]
    },
    {
      "cell_type": "code",
      "execution_count": 7,
      "metadata": {
        "colab": {
          "base_uri": "https://localhost:8080/"
        },
        "id": "Z4pqGUMU2QrU",
        "outputId": "6b8017a7-3345-41b5-c041-7ecfbfb7b80d"
      },
      "outputs": [
        {
          "output_type": "stream",
          "name": "stdout",
          "text": [
            "Hi, I'm Chatty and I chat alot ;)\n",
            "Please type lowercase English language to start a conversation. Type quit to leave \n",
            ">hi\n",
            "Hey there\n",
            ">how are you\n",
            "I'm doing good\n",
            "How about You ?\n",
            ">is it rainy today\n",
            "None\n",
            ">is it raining today\n",
            "None\n",
            ">your favourite  moviestar\n",
            "None\n",
            ">which moviestar do you like\n",
            "None\n",
            ">who is your fav actor\n",
            "Brad Pitt\n",
            ">quit\n",
            "It was nice talking to you. See you soon :)\n"
          ]
        }
      ],
      "source": [
        "def chatty():\n",
        "  print(\"Hi, I'm Chatty and I chat alot ;)\\nPlease type lowercase English language to start a conversation. Type quit to leave \") #default message at the start\n",
        "  chat = Chat(pairs, reflections)\n",
        "  chat.converse()\n",
        "if __name__ == \"__main__\":\n",
        "  chatty()"
      ]
    },
    {
      "cell_type": "code",
      "execution_count": null,
      "metadata": {
        "id": "RyGsONsM52i-"
      },
      "outputs": [],
      "source": []
    }
  ],
  "metadata": {
    "accelerator": "GPU",
    "colab": {
      "provenance": []
    },
    "gpuClass": "standard",
    "kernelspec": {
      "display_name": "Python 3",
      "name": "python3"
    },
    "language_info": {
      "name": "python"
    }
  },
  "nbformat": 4,
  "nbformat_minor": 0
}